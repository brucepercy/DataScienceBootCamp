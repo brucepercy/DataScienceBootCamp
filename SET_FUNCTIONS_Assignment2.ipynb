{
  "nbformat": 4,
  "nbformat_minor": 0,
  "metadata": {
    "colab": {
      "provenance": [],
      "authorship_tag": "ABX9TyMqfpjzz2oBHAOJohcN8NMH",
      "include_colab_link": true
    },
    "kernelspec": {
      "name": "python3",
      "display_name": "Python 3"
    },
    "language_info": {
      "name": "python"
    }
  },
  "cells": [
    {
      "cell_type": "markdown",
      "metadata": {
        "id": "view-in-github",
        "colab_type": "text"
      },
      "source": [
        "<a href=\"https://colab.research.google.com/github/brucepercy/DataScienceBootCamp/blob/main/SET_FUNCTIONS_Assignment2.ipynb\" target=\"_parent\"><img src=\"https://colab.research.google.com/assets/colab-badge.svg\" alt=\"Open In Colab\"/></a>"
      ]
    },
    {
      "cell_type": "markdown",
      "source": [
        "# Funtions Of Sets\n",
        "**bold text**"
      ],
      "metadata": {
        "id": "k2y8ekxNQa0g"
      }
    },
    {
      "cell_type": "code",
      "execution_count": null,
      "metadata": {
        "id": "Mt5z30IZaTzU",
        "colab": {
          "base_uri": "https://localhost:8080/"
        },
        "outputId": "af4c66ca-6e3f-4452-ed2e-15b80cf01750"
      },
      "outputs": [
        {
          "output_type": "execute_result",
          "data": {
            "text/plain": [
              "['__and__',\n",
              " '__class__',\n",
              " '__class_getitem__',\n",
              " '__contains__',\n",
              " '__delattr__',\n",
              " '__dir__',\n",
              " '__doc__',\n",
              " '__eq__',\n",
              " '__format__',\n",
              " '__ge__',\n",
              " '__getattribute__',\n",
              " '__gt__',\n",
              " '__hash__',\n",
              " '__iand__',\n",
              " '__init__',\n",
              " '__init_subclass__',\n",
              " '__ior__',\n",
              " '__isub__',\n",
              " '__iter__',\n",
              " '__ixor__',\n",
              " '__le__',\n",
              " '__len__',\n",
              " '__lt__',\n",
              " '__ne__',\n",
              " '__new__',\n",
              " '__or__',\n",
              " '__rand__',\n",
              " '__reduce__',\n",
              " '__reduce_ex__',\n",
              " '__repr__',\n",
              " '__ror__',\n",
              " '__rsub__',\n",
              " '__rxor__',\n",
              " '__setattr__',\n",
              " '__sizeof__',\n",
              " '__str__',\n",
              " '__sub__',\n",
              " '__subclasshook__',\n",
              " '__xor__',\n",
              " 'add',\n",
              " 'clear',\n",
              " 'copy',\n",
              " 'difference',\n",
              " 'difference_update',\n",
              " 'discard',\n",
              " 'intersection',\n",
              " 'intersection_update',\n",
              " 'isdisjoint',\n",
              " 'issubset',\n",
              " 'issuperset',\n",
              " 'pop',\n",
              " 'remove',\n",
              " 'symmetric_difference',\n",
              " 'symmetric_difference_update',\n",
              " 'union',\n",
              " 'update']"
            ]
          },
          "metadata": {},
          "execution_count": 3
        }
      ],
      "source": [
        "set_fruits = {\"apple\", \"banana\", \"orange\", \"apple\", \"grape\" }\n",
        "set_num = {1,2,3,4,5,6,7,8,9,10}\n",
        "my_set = {1,2,3,4,5,6,7,8,9,10, \"apple\", \"banana\", \"orange\", \"apple\", \"grape\"}\n",
        "#dir(set_fruits)\n",
        "#dir(set_num)\n",
        "dir(my_set)"
      ]
    },
    {
      "cell_type": "code",
      "source": [
        "# and function\n",
        "set_num = {1,2,3,4,5,6,7,8,9,10, \"banana\"}\n",
        "my_set = {1,2,3,4,5,6,7,8,9,10, \"apple\", \"banana\", \"orange\", \"apple\", \"grape\"}\n",
        "intersect = set_num.__and__(my_set)\n",
        "print(\"Intersection of set_num and my_set is: \", intersect)\n",
        "\n",
        "\n",
        "# ##intersection = set1.__and__(set2)  # Using the __and__ method\n",
        "# print(\"Intersection using __and__:\", intersection)"
      ],
      "metadata": {
        "colab": {
          "base_uri": "https://localhost:8080/"
        },
        "id": "nkMDVdMxX42J",
        "outputId": "d3e0eb50-41ca-4ab7-f847-d143c6055571"
      },
      "execution_count": null,
      "outputs": [
        {
          "output_type": "stream",
          "name": "stdout",
          "text": [
            "Intersection of set_num and my_set is:  {1, 2, 3, 4, 5, 6, 7, 8, 9, 10, 'banana'}\n"
          ]
        }
      ]
    },
    {
      "cell_type": "code",
      "source": [
        "# add() method is used in adding elements to the set\n",
        "\n",
        "my_set = {1,2,3,4,5, \"apple\", \"banana\", \"orange\", \"apple\", \"grape\"}\n",
        "# my_set.add('Fig', '1') # Takes only one argument at a time , if run gives an error\n",
        "my_set.add('Fig')\n",
        "print(my_set)"
      ],
      "metadata": {
        "colab": {
          "base_uri": "https://localhost:8080/"
        },
        "id": "1rRvVmwuZrjP",
        "outputId": "87c230eb-10d3-46e2-d027-9609e67ae20b"
      },
      "execution_count": null,
      "outputs": [
        {
          "output_type": "stream",
          "name": "stdout",
          "text": [
            "{1, 2, 3, 4, 5, 'banana', 'Fig', 'grape', 'orange', 'apple'}\n"
          ]
        }
      ]
    },
    {
      "cell_type": "code",
      "source": [
        "# 'clear' remives all the elements in a set\n",
        "my_set = {1,2,3,4,5, \"apple\", \"banana\", \"orange\", \"apple\", \"grape\"}\n",
        "print(my_set)\n",
        "my_set.clear()\n",
        "print(my_set)"
      ],
      "metadata": {
        "colab": {
          "base_uri": "https://localhost:8080/"
        },
        "id": "O2G7BGpPfjdT",
        "outputId": "67465e9e-2445-49a7-8304-f6187ffb1e13"
      },
      "execution_count": null,
      "outputs": [
        {
          "output_type": "stream",
          "name": "stdout",
          "text": [
            "{1, 2, 3, 4, 5, 'banana', 'grape', 'orange', 'apple'}\n",
            "set()\n"
          ]
        }
      ]
    },
    {
      "cell_type": "code",
      "source": [
        " # 'copy' copies the set then we can modify it so there wont be changes in the initial set\n",
        "original_set = {1, \"apple\", \"banana\", \"orange\", \"apple\", \"grape\"}\n",
        "copied_set = original_set.copy()\n",
        "print(copied_set)\n",
        "\n",
        "print()\n",
        "\n",
        "# Add an element to the copied set\n",
        "copied_set.add('love')\n",
        "print(copied_set)"
      ],
      "metadata": {
        "id": "exCUYNRhgYWC",
        "colab": {
          "base_uri": "https://localhost:8080/"
        },
        "outputId": "e9a0ca5a-98dc-4e21-ec93-4c0d944a90c0"
      },
      "execution_count": null,
      "outputs": [
        {
          "output_type": "stream",
          "name": "stdout",
          "text": [
            "{1, 'orange', 'banana', 'grape', 'apple'}\n",
            "\n",
            "{1, 'orange', 'banana', 'love', 'grape', 'apple'}\n",
            ":)\n"
          ]
        }
      ]
    },
    {
      "cell_type": "code",
      "source": [
        "# Different\n",
        "set1 = {1,2,3,4,5,6,7, \"apple\",}\n",
        "set2 = {1,2,3,4,5}\n",
        "dif_set = set1.difference(set2) # Finds whats not there in in set2 which is in the set1\n",
        "print(set1)\n",
        "print(set2)\n",
        "print(dif_set)"
      ],
      "metadata": {
        "colab": {
          "base_uri": "https://localhost:8080/"
        },
        "id": "6ft5p_3nnp1r",
        "outputId": "96a34949-c438-4247-de8f-5585ac6de861"
      },
      "execution_count": null,
      "outputs": [
        {
          "output_type": "stream",
          "name": "stdout",
          "text": [
            "{1, 2, 3, 4, 5, 6, 7, 'apple'}\n",
            "{1, 2, 3, 4, 5}\n",
            "{'apple', 6, 7}\n"
          ]
        }
      ]
    },
    {
      "cell_type": "code",
      "source": [
        "# Difference_update\n",
        "set1 = {1, 2, 3, 4, 5, 6, 7, \"apple\"}\n",
        "set2 = {1, 2, 3, 4, 5}\n",
        "set3 = {1, 2, 3, 4, 5, 6, 7, \"apple\", \"orange\"}\n",
        "\n",
        "set1.difference_update(set2)  # Remove elements from set1 that are in set2\n",
        "#set2.difference_update(set3)  # Remove elements from set2 that are in set3\n",
        "\n",
        "print(\"Updated set1:\", set1)\n",
        "#print(\"Updated set2:\", set2)\n"
      ],
      "metadata": {
        "colab": {
          "base_uri": "https://localhost:8080/"
        },
        "id": "9qFxB_ghqNt8",
        "outputId": "f8d76e30-02f9-49d6-c59c-e50d5b61bd82"
      },
      "execution_count": null,
      "outputs": [
        {
          "output_type": "stream",
          "name": "stdout",
          "text": [
            "Updated set1: {6, 7, 'apple'}\n"
          ]
        }
      ]
    },
    {
      "cell_type": "code",
      "source": [
        "#discard: deleted the element from the set\n",
        "set1 = {1, 2, 3, 4, 5, 6, 7, \"apple\"}\n",
        "set1.discard(\"apple\") # Takes only one argument at a time\n",
        "print(set1)"
      ],
      "metadata": {
        "colab": {
          "base_uri": "https://localhost:8080/"
        },
        "id": "OjsaknFw2bm2",
        "outputId": "94ecc5b0-8e2a-46b4-b509-3db406e9410b"
      },
      "execution_count": null,
      "outputs": [
        {
          "output_type": "stream",
          "name": "stdout",
          "text": [
            "{1, 2, 3, 4, 5, 6, 7}\n"
          ]
        }
      ]
    },
    {
      "cell_type": "code",
      "source": [
        "# 'intersection' Gives elements that are present in both the sets\n",
        "set1 = {1, 2, 3, 4, 5, 6, 7, \"apple\"}\n",
        "set2 = {\"apple\", 4, 5, 6, 7}\n",
        "\n",
        "intersect = set1.intersection(set2)\n",
        "print(intersect)"
      ],
      "metadata": {
        "colab": {
          "base_uri": "https://localhost:8080/"
        },
        "id": "PX7zv0u91Vvo",
        "outputId": "10c94670-cdab-493e-c1cb-d63be90dd9f2"
      },
      "execution_count": null,
      "outputs": [
        {
          "output_type": "stream",
          "name": "stdout",
          "text": [
            "{4, 5, 6, 7, 'apple'}\n"
          ]
        }
      ]
    },
    {
      "cell_type": "code",
      "source": [
        "#'intersection_update'\n",
        "# Modifies the set to keep the elements on the second set\n",
        "set1 = {1, 2, 3, 4, 5, 6, 7, \"apple\"}\n",
        "set2 = {\"apple\", 4, 5, 6, 7}\n",
        "\n",
        "set1.intersection_update(set2)\n",
        "print(set1)"
      ],
      "metadata": {
        "colab": {
          "base_uri": "https://localhost:8080/"
        },
        "id": "Xo5Iz-m2wMy2",
        "outputId": "a2193056-dad6-4361-c803-962eb02c2b46"
      },
      "execution_count": null,
      "outputs": [
        {
          "output_type": "stream",
          "name": "stdout",
          "text": [
            "{4, 5, 6, 7, 'apple'}\n"
          ]
        }
      ]
    },
    {
      "cell_type": "code",
      "source": [
        "#isdisjoint()\n",
        "# a  method in Python is used to check that they have no common elements\n",
        "\n",
        "set1 = {1, 2, 3, 4, 5, 6, 7, \"apple\"}\n",
        "set2 = {\"apple\", 4, 5, 6, 7}\n",
        "\n",
        "# Check if the sets are disjoint\n",
        "disjoint = set1.isdisjoint(set2)\n",
        "\n",
        "if disjoint:\n",
        "    print(\"The sets are disjoint.\")\n",
        "else:\n",
        "    print(\"The sets have common elements.\")\n"
      ],
      "metadata": {
        "colab": {
          "base_uri": "https://localhost:8080/"
        },
        "id": "G1Ud7poRw-Ne",
        "outputId": "8971d041-cc73-4689-c12f-534fac907d0a"
      },
      "execution_count": null,
      "outputs": [
        {
          "output_type": "stream",
          "name": "stdout",
          "text": [
            "The sets have common elements.\n"
          ]
        }
      ]
    },
    {
      "cell_type": "code",
      "source": [
        "#  'issubset'\n",
        "\n",
        "set1 = {1, 2, 3, 4, 5, 6, 7, \"apple\"}\n",
        "set2 = {\"apple\", 4, 5, 6, 7}\n",
        "\n",
        "#checing if its a subset\n",
        "is_subset = set1.issubset(set2)\n",
        "\n",
        "if is_subset:\n",
        "  print(\"it is a subset\")\n",
        "else:\n",
        "  print(\"No\")"
      ],
      "metadata": {
        "id": "Fa2mGnu4yhAL"
      },
      "execution_count": null,
      "outputs": []
    },
    {
      "cell_type": "code",
      "source": [
        "#issuperset\n",
        "\n",
        "set1 = {1, 2, 3, 4, 5, 6, 7, \"apple\"}\n",
        "set2 = {\"apple\", 4, 5, 6, 7}\n",
        "\n",
        "\n",
        "#checing if its a superset\n",
        "is_subset = set1.issuperset(set2)\n",
        "\n",
        "if is_subset:\n",
        "  print(\"It is a superset\")\n",
        "else:\n",
        "  print(\"No\")"
      ],
      "metadata": {
        "id": "Mkx1c2HlzZqn"
      },
      "execution_count": null,
      "outputs": []
    },
    {
      "cell_type": "code",
      "source": [
        "#pop\n",
        "set1 = { 2, 3, 4, 5, 6, 7, \"apple\"}\n",
        "set2 = {\"apple\", 4, 5, 6, 7}\n",
        "\n",
        "# Remove and return an arbitrary /random element\n",
        "removed_element = set1.pop()\n",
        "\n",
        "print(\"Removed element:\", removed_element)\n",
        "print(\"Updated set:\", set1)\n"
      ],
      "metadata": {
        "id": "7yFlkwvLzrvZ"
      },
      "execution_count": null,
      "outputs": []
    },
    {
      "cell_type": "code",
      "source": [
        "# Remove\n",
        "set1 = { 2, 3, 4, 5, 6, 7, \"apple\"}\n",
        "set2 = {\"apple\", 4, 5, 6, 7}\n",
        "\n",
        "# Remove the given element in bracket\n",
        "set1.remove(2)\n",
        "set2.remove(6)\n",
        "print(set1)\n",
        "print(set2)"
      ],
      "metadata": {
        "id": "59Ili0oF0y3o"
      },
      "execution_count": null,
      "outputs": []
    },
    {
      "cell_type": "code",
      "source": [
        "# Symmetric_difference\n",
        "set1 = { 2, 3, 4, 5, 6, 7, \"apple\"}\n",
        "set2 = {\"apple\", 4, 5, 6, 7}\n",
        "\n",
        "symmetric_diff_set1 = set1.symmetric_difference(set2)\n",
        "symmetric_diff_set2 = set2.symmetric_difference(set1)\n",
        "\n",
        "print(\"Symmetric difference of set1:\", symmetric_diff_set1)\n",
        "print(\"Symmetric difference of set2:\", symmetric_diff_set2)"
      ],
      "metadata": {
        "id": "QpDiaGBE5mbl"
      },
      "execution_count": null,
      "outputs": []
    },
    {
      "cell_type": "code",
      "source": [
        "#symmetric_difference_update\n",
        "\n",
        "set1 = { 2, 3, 4, 5, 6, 7, \"apple\"}\n",
        "set2 = {\"apple\", 4, 5, 6, 7}\n",
        "\n",
        "set1.symmetric_difference_update(set2)\n",
        "print(set1)"
      ],
      "metadata": {
        "id": "Nz8R218S78Vl"
      },
      "execution_count": null,
      "outputs": []
    },
    {
      "cell_type": "code",
      "source": [
        "# Union\n",
        "set1 = { 2, 3, 4, 5, 6, 7, \"apple\"}\n",
        "set2 = {\"apple\", 4, 5, 6, 7}\n",
        "\n",
        "union_set = set1.union(set2)\n",
        "print(union_set)"
      ],
      "metadata": {
        "colab": {
          "base_uri": "https://localhost:8080/"
        },
        "id": "eFhMfdhkDFhe",
        "outputId": "dc99d190-2b27-441f-db8d-ed2ecaf4d913"
      },
      "execution_count": null,
      "outputs": [
        {
          "output_type": "stream",
          "name": "stdout",
          "text": [
            "{2, 3, 4, 5, 6, 7, 'apple'}\n"
          ]
        }
      ]
    },
    {
      "cell_type": "code",
      "source": [
        "# Update\n",
        "set1 = { 2, 3, 4, 5, 6, 7, \"apple\"}\n",
        "set2 = {\"apple\", 4, 5, 6, 7,9}\n",
        "\n",
        "set1.update(set2)\n",
        "print(set1)"
      ],
      "metadata": {
        "colab": {
          "base_uri": "https://localhost:8080/"
        },
        "id": "p0Tqj4bwDh8W",
        "outputId": "785fbe21-a49a-4faf-d984-14e26bb55a4f"
      },
      "execution_count": null,
      "outputs": [
        {
          "output_type": "stream",
          "name": "stdout",
          "text": [
            "{2, 3, 4, 5, 6, 7, 9, 'apple'}\n"
          ]
        }
      ]
    }
  ]
}