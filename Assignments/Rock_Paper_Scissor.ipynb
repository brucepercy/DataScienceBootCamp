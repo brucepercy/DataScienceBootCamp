{
  "nbformat": 4,
  "nbformat_minor": 0,
  "metadata": {
    "colab": {
      "provenance": []
    },
    "kernelspec": {
      "name": "python3",
      "display_name": "Python 3"
    },
    "language_info": {
      "name": "python"
    }
  },
  "cells": [
    {
      "cell_type": "code",
      "execution_count": null,
      "metadata": {
        "id": "eLKMlHLwWdZD",
        "colab": {
          "base_uri": "https://localhost:8080/"
        },
        "outputId": "21f114f7-d623-4f9e-8a94-116531453a46"
      },
      "outputs": [
        {
          "output_type": "stream",
          "name": "stdout",
          "text": [
            "Enter rock to play Rock\n",
            "Enter paper to play Paper\n",
            "Enter scissor to play Scissor \n",
            "\n",
            "Type in your selection: rock\n",
            "\n",
            "rock X scissor\n",
            "\n",
            "YOU WON!\n",
            "\n"
          ]
        }
      ],
      "source": [
        "import random\n",
        "import math\n",
        "\n",
        "# possible_actions = [\"rock\", \"paper\", \"scissor\"]\n",
        "# computer_action = random.choice(possible_actions)\n",
        "# print(computer_action)\n",
        "\n",
        "\n",
        "print(\"Enter rock to play Rock\")\n",
        "print(\"Enter paper to play Paper\")\n",
        "print(\"Enter scissor to play Scissor \")\n",
        "\n",
        "# possible_actions = [\"rock\", \"paper\", \"scissor\"]\n",
        "# comp_act = random.choice(possible_actions)\n",
        "\n",
        "print()\n",
        "\n",
        "# while it does not break the code will run\n",
        "while True:\n",
        "\n",
        "# Starting with declaring the cosntants used in this game\n",
        "    possible_actions = [\"rock\", \"paper\", \"scissor\"]\n",
        "    comp_act = random.choice(possible_actions)\n",
        "\n",
        "# Getting the input from the player\n",
        "    player_input = str(input(\"Type in your selection: \"))\n",
        "\n",
        "    #convert it to lower to find the winner\n",
        "    srtd_input = player_input.lower()\n",
        "\n",
        "    print()\n",
        "\n",
        "    # printing the user input and the computer determined input\n",
        "    print(srtd_input, \"X\", comp_act)\n",
        "    print()\n",
        "\n",
        "    # IF ELSE STATEMENTS TO DETERMINE THE WINNER\n",
        "    if srtd_input == 'rock' and comp_act == 'scissor':\n",
        "        print(\"YOU WON!\")\n",
        "        print()\n",
        "        break\n",
        "        # Breaking to quit the game if the player wins\n",
        "\n",
        "    elif srtd_input == 'paper' and comp_act == 'rock':\n",
        "        print(\"YOU WON!\")\n",
        "        print()\n",
        "        break\n",
        "        # Breaking to quit the game if the player wins\n",
        "\n",
        "    elif srtd_input == 'scissor' and comp_act == 'paper':\n",
        "        print(\"YOU WON!\")\n",
        "        print()\n",
        "        break\n",
        "        # Breaking to quit the game if the player wins\n",
        "\n",
        "    elif srtd_input == 'scissor' and comp_act == 'rock':\n",
        "        print(\"Better Luck Next Time :(\")\n",
        "        print()\n",
        "        print('===================PLAY AGAIN==================')\n",
        "        print()\n",
        "\n",
        "    elif srtd_input == 'rock' and comp_act == 'paper':\n",
        "        print(\"Better Luck Next Time :(\")\n",
        "        print()\n",
        "        print('===================PLAY AGAIN==================')\n",
        "        print()\n",
        "\n",
        "    elif srtd_input == 'paper' and comp_act == 'scissor':\n",
        "        print(\"Better Luck Next Time :(\")\n",
        "        print()\n",
        "        print('===================PLAY AGAIN==================')\n",
        "        print()\n",
        "\n",
        "    else:\n",
        "        print(\"It's a TIE, Try again to win !!!\")\n",
        "        print()\n",
        "        print('===================PLAY AGAIN==================')\n",
        "        print()"
      ]
    }
  ]
}